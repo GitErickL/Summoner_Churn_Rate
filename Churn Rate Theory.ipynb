{
 "cells": [
  {
   "cell_type": "markdown",
   "id": "8e6eff52",
   "metadata": {},
   "source": [
    "# Project: Theory"
   ]
  },
  {
   "cell_type": "markdown",
   "id": "3b1ed796",
   "metadata": {},
   "source": [
    "## Notation"
   ]
  },
  {
   "cell_type": "markdown",
   "id": "26cc7063",
   "metadata": {},
   "source": [
    "Every player has played $n_i$ games in total starting from when Riot first started taking data on timestamps on June 16, 2021. $i$ is the $i^{th}$ summoner.\n",
    "<br>\n",
    "<br>\n",
    "\n",
    "A timestamp of the start of a game is denoted as $b_{i,j}$, where $i$ is the $i^{th}$ summoner and $j$ is the $j^{th}$ game. For example the timestamp of the 3rd summoner and their 19th game is $b_{3,19}$\n",
    "<br>\n",
    "<br>\n",
    "\n",
    "The duration of a game is also recorded, and we denote it similarly as $d_{i,j}$. Then the end time stamp of a game is \n",
    "<br>\n",
    "<br>\n",
    "<center> $e_{i,j} = b_{i,j} + d_{i,j}$.\n",
    "\n",
    "\n",
    "Great, so that's the notation we'll use. Let's do some analysis."
   ]
  },
  {
   "cell_type": "markdown",
   "id": "27b3fc8b",
   "metadata": {},
   "source": [
    "## Tasks"
   ]
  },
  {
   "cell_type": "markdown",
   "id": "a33bc1a8",
   "metadata": {},
   "source": [
    "If we wish to analyze the player churn rates, we may explore time passed between games and find trends in this new variable as a function of time. If there are large gaps then this is a warning of a player almost churning."
   ]
  },
  {
   "cell_type": "markdown",
   "id": "4472b612",
   "metadata": {},
   "source": [
    "### Time Between Games"
   ]
  },
  {
   "cell_type": "markdown",
   "id": "41bca0df",
   "metadata": {},
   "source": [
    "To start this analysis we create a new variable of **times between games**, given by\n",
    "<br>\n",
    "<br>\n",
    "<center>$\\Delta t_{i,j} = b_{i,j} - e_{i,j-1}$.\n",
    "<br>\n",
    "<br>\n",
    "\n",
    "\n",
    "This variable is defined as the difference in time between the start time of a game and then end time of the previous game. By plotting this new variable as a function of the start time of the game (or end time of the previous game) we can gain some insights on summoners' trends regarding games played.\n",
    "<br>\n",
    "<br>\n",
    "    \n",
    "These trends include:\n",
    "<br>\n",
    "<br>\n",
    "- **Play Sessions**: If a summoner is playing a certain amount of games back-to-back, whose collection we'll refer to as a **play session**, then the collection of points $\\Delta t_{i,j}$ for this play session will be low in value, since the times between these games are short. By analyzing the number of games within a session as a function of time, we can see how the number of games in a session influences a summoner's probability of churning.\n",
    "<br>\n",
    "<br>\n",
    "\n",
    "- **Session Separation**: We'll define the **session separation** as the time difference between one play session and the next. If a summoner has some sort of pattern in session separations, say for example they play every day around the same time, then there will be many points with a $\\Delta t$ of about 24 hours. In general, if there are a frequent amount of points around a non-small value of $\\Delta t$ (small values constitute games **within** a play session), then this tells us the session separation is about $\\Delta t$ units of time. This is an important insight because if the session separations increase with time, this gives us a warning that the player may churn.\n",
    "<br>\n",
    "<br>\n",
    "    \n",
    "- **Large absences in play time**: When plotting $\\Delta t$ as a function of time, these large absences in play time are characterized by large values of $\\Delta t$ with the previous point being far away on the x-axis. Analyzing points before this value will give us insight on the patterns leading up to a summoner potentially churning. This point will also give us insight on what brought the summoner back to playing, instead of completely churning.\n"
   ]
  },
  {
   "cell_type": "markdown",
   "id": "ac922bbb",
   "metadata": {},
   "source": [
    "# Project in Practice"
   ]
  },
  {
   "cell_type": "markdown",
   "id": "3f9d30a3",
   "metadata": {},
   "source": [
    "We now have the trends we wish to explore. There's only one problem: it's hard to get data. There's a few reasons for this:\n",
    "\n",
    "\n",
    "1. It takes awhile to fetch game data using Riot's API, and if we wish to get data for a large amount ($>10^3$) of players' play times (~$10^3$), then this is about $10^6$ requests we need to make to Riot's API. The choice of numbers of players and games is semi-arbitrary; I just want a large enough sample size where I can make reasonable inferences about the population.\n",
    "\n",
    "This would be a trivial amount of data to work with if I can actually get my hands on the data, but in my experience fetching this data, I was met with many HTTP 503 Errors that happenned randomly and I could not find a way to handle them well (the python command *except HTTPError:* wasn't working for me). \n",
    "\n",
    "No, I was not going over my rate limit as I put a time.sleep(2) after every fetch from the API. \n",
    "\n",
    "\n",
    "2. Some of the timestamps are...weird?\n",
    "\n",
    "According to some posts on the 3rd party dev community, practice tool games have a start game timestamp of 0. This is units of Unix epoch time, which corresponds to a date in 1970, so these points are basically corrupted data. \n",
    "\n",
    "So, is there a solution that will still give a reasonalbe chance at inferring anything about the population of LoL players?"
   ]
  },
  {
   "cell_type": "markdown",
   "id": "b3cf39cc",
   "metadata": {},
   "source": [
    "# Solution"
   ]
  },
  {
   "cell_type": "markdown",
   "id": "2a4c1247",
   "metadata": {},
   "source": [
    "The answer is no. We need a large number of players and their play times  "
   ]
  },
  {
   "cell_type": "code",
   "execution_count": null,
   "id": "e1bdeed8",
   "metadata": {},
   "outputs": [],
   "source": []
  }
 ],
 "metadata": {
  "kernelspec": {
   "display_name": "Python 3 (ipykernel)",
   "language": "python",
   "name": "python3"
  },
  "language_info": {
   "codemirror_mode": {
    "name": "ipython",
    "version": 3
   },
   "file_extension": ".py",
   "mimetype": "text/x-python",
   "name": "python",
   "nbconvert_exporter": "python",
   "pygments_lexer": "ipython3",
   "version": "3.9.7"
  }
 },
 "nbformat": 4,
 "nbformat_minor": 5
}
