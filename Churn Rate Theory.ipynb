{
 "cells": [
  {
   "cell_type": "markdown",
   "metadata": {},
   "source": [
    "# Project: Theory"
   ]
  },
  {
   "cell_type": "markdown",
   "metadata": {},
   "source": [
    "## Notation"
   ]
  },
  {
   "cell_type": "markdown",
   "metadata": {},
   "source": [
    "Every player has played $n_i$ games in total starting from when Riot first started taking data on timestamps on June 16, 2021. $i$ is the $i^{th}$ summoner.\n",
    "<br>\n",
    "<br>\n",
    "\n",
    "A timestamp of the start of a game is denoted as $b_{i,j}$, where $i$ is the $i^{th}$ summoner and $j$ is the $j^{th}$ game. For example the timestamp of the 3rd summoner and their 19th game is $b_{3,19}$\n",
    "<br>\n",
    "<br>\n",
    "\n",
    "The duration of a game is also recorded, and we denote it similarly as $d_{i,j}$. Then the end time stamp of a game is \n",
    "<br>\n",
    "<br>\n",
    "<center> $e_{i,j} = b_{i,j} + d_{i,j}$.\n",
    "\n",
    "\n",
    "Great, so that's the notation we'll use. Let's do some analysis."
   ]
  },
  {
   "cell_type": "markdown",
   "metadata": {},
   "source": [
    "## Tasks"
   ]
  },
  {
   "cell_type": "markdown",
   "metadata": {},
   "source": [
    "If we wish to analyze the player churn rates, we may explore time passed between games and find trends in this new variable as a function of time. If there are large gaps then this is a warning of a player almost churning."
   ]
  },
  {
   "cell_type": "markdown",
   "metadata": {},
   "source": [
    "### Time Between Games"
   ]
  },
  {
   "cell_type": "markdown",
   "metadata": {},
   "source": [
    "To start this analysis we create a new variable of **times between games**, given by\n",
    "<br>\n",
    "<br>\n",
    "<center>$\\Delta t_{i,j} = b_{i,j} - e_{i,j-1}$.\n",
    "<br>\n",
    "<br>\n",
    "\n",
    "\n",
    "This variable is defined as the difference in time between the start time of a game and then end time of the previous game. By plotting this new variable as a function of the start time of the game (or end time of the previous game) we can gain some insights on summoners' trends regarding games played.\n",
    "<br>\n",
    "<br>\n",
    "    \n",
    "These trends include:\n",
    "<br>\n",
    "<br>\n",
    "- **Sessions**: If a summoner is playing a certain amount of games back-to-back, whose collection we'll refer to as a *session**, then the collection of points $\\Delta t_{i,j}$ for this session will be low in value, since the times between these games are short. By analyzing the number of games within each session as a function of time, we can see how the number of games in a session influences a summoner's probability of churning.\n",
    "<br>\n",
    "<br>\n",
    "\n",
    "- **Session Separation**: We'll define the **session separation** as the time difference between one session and the next. If a summoner has some sort of pattern in session separations, say for example they play every day around the same time, then there will be many points with a $\\Delta t$ of about 24 hours. In general, if there are a frequent amount of points around a non-small value of $\\Delta t$ (small values constitute games **within** a play session), then this tells us the session separation is about $\\Delta t$ units of time. This is an important insight because if the session separations increase with time, this gives us a warning that the player may churn.\n",
    "<br>\n",
    "<br>\n",
    "    \n",
    "- **Large absences in play time**: When plotting $\\Delta t$ as a function of time, these large absences in play time are characterized by large values of $\\Delta t$ with the previous point being far away on the x-axis. Analyzing points before this value will give us insight on the patterns leading up to a summoner potentially churning. This point will also give us insight on what brought the summoner back to playing, instead of completely churning.\n"
   ]
  }
 ],
 "metadata": {
  "kernelspec": {
   "display_name": "Python 3",
   "language": "python",
   "name": "python3"
  },
  "language_info": {
   "codemirror_mode": {
    "name": "ipython",
    "version": 3
   },
   "file_extension": ".py",
   "mimetype": "text/x-python",
   "name": "python",
   "nbconvert_exporter": "python",
   "pygments_lexer": "ipython3",
   "version": "3.8.5"
  }
 },
 "nbformat": 4,
 "nbformat_minor": 5
}
