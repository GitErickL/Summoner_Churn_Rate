{
 "cells": [
  {
   "cell_type": "code",
   "execution_count": 3,
   "id": "d294937c",
   "metadata": {},
   "outputs": [],
   "source": [
    "import os\n",
    "import pandas as pd"
   ]
  },
  {
   "cell_type": "code",
   "execution_count": null,
   "id": "afb5bc6f",
   "metadata": {},
   "outputs": [],
   "source": [
    "dir_path = \"Player_Time_Data_Large/\"\n",
    "\n",
    "\n",
    "\n",
    "for i, file in enumerate(os.listdir(\"Player_Time_Data_Large/\"))\n",
    "    \n",
    "    with open(\"Player_Time_Data_Large/\" + file) as f:\n",
    "        \n",
    "        \n",
    "    "
   ]
  },
  {
   "cell_type": "code",
   "execution_count": null,
   "id": "18f6cdaa",
   "metadata": {},
   "outputs": [],
   "source": []
  },
  {
   "cell_type": "code",
   "execution_count": null,
   "id": "1f37a182",
   "metadata": {},
   "outputs": [],
   "source": []
  },
  {
   "cell_type": "code",
   "execution_count": 20,
   "id": "596ac472",
   "metadata": {},
   "outputs": [
    {
     "name": "stdout",
     "output_type": "stream",
     "text": [
      "54862 54862\n"
     ]
    }
   ],
   "source": [
    "\n",
    "\n",
    "\n",
    "\n",
    "length_df = 0 \n",
    "\n",
    "for i, file in enumerate(os.listdir(\"Player_Time_Data_Large/\")):\n",
    "\n",
    "    df = pd.read_csv(\"Player_Time_Data_Large/\" + file ,\n",
    "                          dtype='str,str,float,float,bool', \n",
    "                          delimiter = \" \",\n",
    "                          usecols=(0,1,2,3,4),\n",
    "                          header = None\n",
    "                        )\n",
    "    \n",
    "    df.columns = [\"puuid\", \"match_id\", \"start_time\", \"duration\", \"win\"]\n",
    "\n",
    "    df.drop_duplicates(inplace = True)\n",
    "    \n",
    "    length_df+= len(df[\"puuid\"])\n",
    "    \n",
    "    if i == 0:\n",
    "        df_new = df\n",
    "    \n",
    "    else:\n",
    "        df_new = pd.concat([df_new, df])\n",
    "\n",
    "print (len(df_new[\"puuid\"]), length_df)"
   ]
  },
  {
   "cell_type": "code",
   "execution_count": 30,
   "id": "4fab657c",
   "metadata": {},
   "outputs": [
    {
     "data": {
      "text/plain": [
       "array([['-2T7rRAra_LmbFJ1LPNVOReHWn_NkQ90iZXU7enjPI-idHn2e9FYU2YGTYEjFSUBgHRBqeuxgaUPig',\n",
       "        'NA1_3950829830', 1624244713584.0, 1118604.0, True],\n",
       "       ['-2T7rRAra_LmbFJ1LPNVOReHWn_NkQ90iZXU7enjPI-idHn2e9FYU2YGTYEjFSUBgHRBqeuxgaUPig',\n",
       "        'NA1_3950784669', 1624243152370.0, 1220863.0, True],\n",
       "       ['-2T7rRAra_LmbFJ1LPNVOReHWn_NkQ90iZXU7enjPI-idHn2e9FYU2YGTYEjFSUBgHRBqeuxgaUPig',\n",
       "        'NA1_3950729686', 1624241391567.0, 1446051.0, True],\n",
       "       ...,\n",
       "       ['-2T7rRAra_LmbFJ1LPNVOReHWn_NkQ90iZXU7enjPI-idHn2e9FYU2YGTYEjFSUBgHRBqeuxgaUPig',\n",
       "        'NA1_4317808775', 1653362304943.0, 684.0, True],\n",
       "       ['-2T7rRAra_LmbFJ1LPNVOReHWn_NkQ90iZXU7enjPI-idHn2e9FYU2YGTYEjFSUBgHRBqeuxgaUPig',\n",
       "        'NA1_4317813882', 1653361033916.0, 998.0, False],\n",
       "       ['-2T7rRAra_LmbFJ1LPNVOReHWn_NkQ90iZXU7enjPI-idHn2e9FYU2YGTYEjFSUBgHRBqeuxgaUPig',\n",
       "        'NA1_4317788649', 1653359606643.0, 1083.0, True]], dtype=object)"
      ]
     },
     "execution_count": 30,
     "metadata": {},
     "output_type": "execute_result"
    }
   ],
   "source": [
    "dfs[0].values"
   ]
  },
  {
   "cell_type": "code",
   "execution_count": 32,
   "id": "ca32c06e",
   "metadata": {},
   "outputs": [
    {
     "ename": "TypeError",
     "evalue": "Mismatch between array dtype ('object') and format specifier ('%.18e %.18e %.18e %.18e %.18e')",
     "output_type": "error",
     "traceback": [
      "\u001b[0;31m---------------------------------------------------------------------------\u001b[0m",
      "\u001b[0;31mTypeError\u001b[0m                                 Traceback (most recent call last)",
      "\u001b[0;32m~/opt/anaconda3/lib/python3.9/site-packages/numpy/lib/npyio.py\u001b[0m in \u001b[0;36msavetxt\u001b[0;34m(fname, X, fmt, delimiter, newline, header, footer, comments, encoding)\u001b[0m\n\u001b[1;32m   1432\u001b[0m                 \u001b[0;32mtry\u001b[0m\u001b[0;34m:\u001b[0m\u001b[0;34m\u001b[0m\u001b[0;34m\u001b[0m\u001b[0m\n\u001b[0;32m-> 1433\u001b[0;31m                     \u001b[0mv\u001b[0m \u001b[0;34m=\u001b[0m \u001b[0mformat\u001b[0m \u001b[0;34m%\u001b[0m \u001b[0mtuple\u001b[0m\u001b[0;34m(\u001b[0m\u001b[0mrow\u001b[0m\u001b[0;34m)\u001b[0m \u001b[0;34m+\u001b[0m \u001b[0mnewline\u001b[0m\u001b[0;34m\u001b[0m\u001b[0;34m\u001b[0m\u001b[0m\n\u001b[0m\u001b[1;32m   1434\u001b[0m                 \u001b[0;32mexcept\u001b[0m \u001b[0mTypeError\u001b[0m \u001b[0;32mas\u001b[0m \u001b[0me\u001b[0m\u001b[0;34m:\u001b[0m\u001b[0;34m\u001b[0m\u001b[0;34m\u001b[0m\u001b[0m\n",
      "\u001b[0;31mTypeError\u001b[0m: must be real number, not str",
      "\nThe above exception was the direct cause of the following exception:\n",
      "\u001b[0;31mTypeError\u001b[0m                                 Traceback (most recent call last)",
      "\u001b[0;32m/var/folders/72/cps9cly148v6hxjqc_2z32h40000gn/T/ipykernel_71007/3075351178.py\u001b[0m in \u001b[0;36m<module>\u001b[0;34m\u001b[0m\n\u001b[1;32m     10\u001b[0m \u001b[0;34m\u001b[0m\u001b[0m\n\u001b[1;32m     11\u001b[0m     \u001b[0;32mif\u001b[0m \u001b[0mi\u001b[0m \u001b[0;34m==\u001b[0m\u001b[0;36m0\u001b[0m\u001b[0;34m:\u001b[0m\u001b[0;34m\u001b[0m\u001b[0;34m\u001b[0m\u001b[0m\n\u001b[0;32m---> 12\u001b[0;31m         np.savetxt(r'Player_Time_Data_Large_2/player_{}_times.txt', df.values, \n\u001b[0m\u001b[1;32m     13\u001b[0m                    \u001b[0;31m#fmt='%d'\u001b[0m\u001b[0;34m\u001b[0m\u001b[0;34m\u001b[0m\u001b[0m\n\u001b[1;32m     14\u001b[0m                   )\n",
      "\u001b[0;32m<__array_function__ internals>\u001b[0m in \u001b[0;36msavetxt\u001b[0;34m(*args, **kwargs)\u001b[0m\n",
      "\u001b[0;32m~/opt/anaconda3/lib/python3.9/site-packages/numpy/lib/npyio.py\u001b[0m in \u001b[0;36msavetxt\u001b[0;34m(fname, X, fmt, delimiter, newline, header, footer, comments, encoding)\u001b[0m\n\u001b[1;32m   1433\u001b[0m                     \u001b[0mv\u001b[0m \u001b[0;34m=\u001b[0m \u001b[0mformat\u001b[0m \u001b[0;34m%\u001b[0m \u001b[0mtuple\u001b[0m\u001b[0;34m(\u001b[0m\u001b[0mrow\u001b[0m\u001b[0;34m)\u001b[0m \u001b[0;34m+\u001b[0m \u001b[0mnewline\u001b[0m\u001b[0;34m\u001b[0m\u001b[0;34m\u001b[0m\u001b[0m\n\u001b[1;32m   1434\u001b[0m                 \u001b[0;32mexcept\u001b[0m \u001b[0mTypeError\u001b[0m \u001b[0;32mas\u001b[0m \u001b[0me\u001b[0m\u001b[0;34m:\u001b[0m\u001b[0;34m\u001b[0m\u001b[0;34m\u001b[0m\u001b[0m\n\u001b[0;32m-> 1435\u001b[0;31m                     raise TypeError(\"Mismatch between array dtype ('%s') and \"\n\u001b[0m\u001b[1;32m   1436\u001b[0m                                     \u001b[0;34m\"format specifier ('%s')\"\u001b[0m\u001b[0;34m\u001b[0m\u001b[0;34m\u001b[0m\u001b[0m\n\u001b[1;32m   1437\u001b[0m                                     % (str(X.dtype), format)) from e\n",
      "\u001b[0;31mTypeError\u001b[0m: Mismatch between array dtype ('object') and format specifier ('%.18e %.18e %.18e %.18e %.18e')"
     ]
    }
   ],
   "source": [
    "import numpy as np\n",
    "\n",
    "#need to save to text files\n",
    "\n",
    "gb = df_new.groupby('puuid')    \n",
    "dfs = [gb.get_group(x) for x in gb.groups]\n",
    "\n",
    "\n",
    "for i, df in enumerate(dfs):\n",
    "    \n",
    "    if i ==0:\n",
    "        np.savetxt(r'Player_Time_Data_Large_2/player_{}_times.txt', df.values, \n",
    "                   #fmt='%d'\n",
    "                  )\n"
   ]
  },
  {
   "cell_type": "code",
   "execution_count": 21,
   "id": "fceed654",
   "metadata": {},
   "outputs": [
    {
     "data": {
      "text/html": [
       "<div>\n",
       "<style scoped>\n",
       "    .dataframe tbody tr th:only-of-type {\n",
       "        vertical-align: middle;\n",
       "    }\n",
       "\n",
       "    .dataframe tbody tr th {\n",
       "        vertical-align: top;\n",
       "    }\n",
       "\n",
       "    .dataframe thead th {\n",
       "        text-align: right;\n",
       "    }\n",
       "</style>\n",
       "<table border=\"1\" class=\"dataframe\">\n",
       "  <thead>\n",
       "    <tr style=\"text-align: right;\">\n",
       "      <th></th>\n",
       "      <th>puuid</th>\n",
       "      <th>match_id</th>\n",
       "      <th>start_time</th>\n",
       "      <th>duration</th>\n",
       "      <th>win</th>\n",
       "    </tr>\n",
       "  </thead>\n",
       "  <tbody>\n",
       "    <tr>\n",
       "      <th>0</th>\n",
       "      <td>olRQfmIAXUPLPlpaznliRFUqFBVMSVvo5k8qS0n-E81R2U...</td>\n",
       "      <td>NA1_4249123260</td>\n",
       "      <td>1.647581e+12</td>\n",
       "      <td>2103.0</td>\n",
       "      <td>False</td>\n",
       "    </tr>\n",
       "    <tr>\n",
       "      <th>0</th>\n",
       "      <td>57pS6ftCjxiaIpcWRDqmvyMUD0d4-Dg4MDjv6bgNmuvfQQ...</td>\n",
       "      <td>NA1_4096314151</td>\n",
       "      <td>1.636505e+12</td>\n",
       "      <td>1312.0</td>\n",
       "      <td>True</td>\n",
       "    </tr>\n",
       "    <tr>\n",
       "      <th>0</th>\n",
       "      <td>hvxc4S0axLrMz3VhYP7sY3keopSuTcO6uS_NaTsQIV2BDd...</td>\n",
       "      <td>NA1_4276106727</td>\n",
       "      <td>1.650003e+12</td>\n",
       "      <td>888.0</td>\n",
       "      <td>True</td>\n",
       "    </tr>\n",
       "    <tr>\n",
       "      <th>1</th>\n",
       "      <td>-sTYvckS77_QMfc-FY964JjxOUf4REVg96ghKRSdWRvKnB...</td>\n",
       "      <td>NA1_4221787684</td>\n",
       "      <td>1.645328e+12</td>\n",
       "      <td>466.0</td>\n",
       "      <td>False</td>\n",
       "    </tr>\n",
       "    <tr>\n",
       "      <th>2</th>\n",
       "      <td>-sTYvckS77_QMfc-FY964JjxOUf4REVg96ghKRSdWRvKnB...</td>\n",
       "      <td>NA1_4221677255</td>\n",
       "      <td>1.645326e+12</td>\n",
       "      <td>147.0</td>\n",
       "      <td>False</td>\n",
       "    </tr>\n",
       "  </tbody>\n",
       "</table>\n",
       "</div>"
      ],
      "text/plain": [
       "                                               puuid        match_id  \\\n",
       "0  olRQfmIAXUPLPlpaznliRFUqFBVMSVvo5k8qS0n-E81R2U...  NA1_4249123260   \n",
       "0  57pS6ftCjxiaIpcWRDqmvyMUD0d4-Dg4MDjv6bgNmuvfQQ...  NA1_4096314151   \n",
       "0  hvxc4S0axLrMz3VhYP7sY3keopSuTcO6uS_NaTsQIV2BDd...  NA1_4276106727   \n",
       "1  -sTYvckS77_QMfc-FY964JjxOUf4REVg96ghKRSdWRvKnB...  NA1_4221787684   \n",
       "2  -sTYvckS77_QMfc-FY964JjxOUf4REVg96ghKRSdWRvKnB...  NA1_4221677255   \n",
       "\n",
       "     start_time  duration    win  \n",
       "0  1.647581e+12    2103.0  False  \n",
       "0  1.636505e+12    1312.0   True  \n",
       "0  1.650003e+12     888.0   True  \n",
       "1  1.645328e+12     466.0  False  \n",
       "2  1.645326e+12     147.0  False  "
      ]
     },
     "execution_count": 21,
     "metadata": {},
     "output_type": "execute_result"
    }
   ],
   "source": [
    "df_new.head()"
   ]
  },
  {
   "cell_type": "code",
   "execution_count": null,
   "id": "5f6c0643",
   "metadata": {},
   "outputs": [],
   "source": []
  },
  {
   "cell_type": "code",
   "execution_count": null,
   "id": "791492ec",
   "metadata": {},
   "outputs": [],
   "source": []
  }
 ],
 "metadata": {
  "kernelspec": {
   "display_name": "Python 3 (ipykernel)",
   "language": "python",
   "name": "python3"
  },
  "language_info": {
   "codemirror_mode": {
    "name": "ipython",
    "version": 3
   },
   "file_extension": ".py",
   "mimetype": "text/x-python",
   "name": "python",
   "nbconvert_exporter": "python",
   "pygments_lexer": "ipython3",
   "version": "3.9.7"
  }
 },
 "nbformat": 4,
 "nbformat_minor": 5
}
