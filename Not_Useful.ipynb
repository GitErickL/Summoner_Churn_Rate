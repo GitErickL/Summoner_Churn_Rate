{
 "cells": [
  {
   "cell_type": "code",
   "execution_count": null,
   "id": "b2e0db03",
   "metadata": {},
   "outputs": [],
   "source": [
    "fig, ax = plt.subplots(figsize = (12,6))\n",
    "\n",
    "c_list = [\"tab:blue\",\"tab:orange\",\"tab:green\",\"tab:red\",\"tab:purple\",\"tab:brown\",\"tab:pink\",\"tab:gray\",\"tab:olive\",\"tab:cyan\"]\n",
    "\n",
    "for i, filepath in enumerate(os.listdir(\"Player_Time_Data_2/\")):\n",
    "    \n",
    "    df = pd.read_csv(\"Player_Time_Data_2/{}\".format(filepath),\n",
    "                      dtype='str,str,float,float,bool', \n",
    "                      delimiter = \" \",\n",
    "                      usecols=(0,1,2,3),\n",
    "                      header = None\n",
    "                    )\n",
    "    \n",
    "    df = clean_data(df)\n",
    "    \n",
    "    sns.histplot(data = df[\"start_time_date\"], \n",
    "                 element = 'poly', \n",
    "                 fill= False, \n",
    "                 ax = ax, \n",
    "                 ls = \"solid\", \n",
    "                 color = c_list[i],\n",
    "                 label = \"Player {}\".format(i),\n",
    "                )\n",
    "    \n",
    "plt.xlabel(\"Date\", fontsize = 20)\n",
    "plt.ylabel(\"Games Played on that Date\", fontsize = 15)\n",
    "plt.title(\"Frequency of Games Played of 10 League of Legends Players Over 10 months\", fontsize = 15)\n",
    "\n",
    "plt.legend(loc='center left', bbox_to_anchor=(1, 0.5))\n",
    "\n",
    "    \n",
    "    "
   ]
  },
  {
   "cell_type": "markdown",
   "id": "5ffd6225",
   "metadata": {},
   "source": [
    "This graph represents how many times a summoner played a game at a certain date. There doesn't appear to be any evident pattern, but if you notice players 0,1,2 their play frequencies seem to align pretty well. I looked them up and turns out they queue up together fairly often.\n",
    "\n",
    "Graphs like this lose any sort of valuable information the more summoners there are in the plot. So let's check out some other ways to visually explore the data."
   ]
  }
 ],
 "metadata": {
  "kernelspec": {
   "display_name": "Python 3 (ipykernel)",
   "language": "python",
   "name": "python3"
  },
  "language_info": {
   "codemirror_mode": {
    "name": "ipython",
    "version": 3
   },
   "file_extension": ".py",
   "mimetype": "text/x-python",
   "name": "python",
   "nbconvert_exporter": "python",
   "pygments_lexer": "ipython3",
   "version": "3.9.7"
  }
 },
 "nbformat": 4,
 "nbformat_minor": 5
}
