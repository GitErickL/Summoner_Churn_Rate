{
 "cells": [
  {
   "cell_type": "code",
   "execution_count": 1,
   "metadata": {},
   "outputs": [],
   "source": [
    "import pandas as pd\n",
    "from riotwatcher import LolWatcher \n",
    "import matplotlib.pyplot as plt\n",
    "import seaborn as sns\n",
    "import time\n",
    "\n",
    "%matplotlib inline"
   ]
  },
  {
   "cell_type": "markdown",
   "metadata": {},
   "source": [
    "#### Was there a mass exodus of players at one point in time? At a specific patch? A specific champ release? A Riot Games debacle?"
   ]
  },
  {
   "cell_type": "code",
   "execution_count": 2,
   "metadata": {},
   "outputs": [],
   "source": [
    "watcher = LolWatcher(api_key = \"RGAPI-e512287e-bb97-4738-bfec-8282f64da54b\")"
   ]
  },
  {
   "cell_type": "code",
   "execution_count": 3,
   "metadata": {},
   "outputs": [],
   "source": [
    "puddingpiler = watcher.summoner.by_name(region = 'na1', summoner_name = \"puddingpiler\")"
   ]
  },
  {
   "cell_type": "code",
   "execution_count": 4,
   "metadata": {},
   "outputs": [],
   "source": [
    "#https://www.unixtimestamp.com \n",
    "#Unix epoch time for September 10, 2021\n",
    "#This time is chosen since Riot only has data for me over the past 9 months before now, which is the date below\n",
    "start_date = 1631257200"
   ]
  },
  {
   "cell_type": "code",
   "execution_count": 16,
   "metadata": {},
   "outputs": [
    {
     "name": "stdout",
     "output_type": "stream",
     "text": [
      "10\n",
      "NA1_4038086367\n",
      "adding puuid\n",
      "adding puuid\n",
      "adding puuid\n",
      "adding puuid\n",
      "adding puuid\n",
      "adding puuid\n",
      "adding puuid\n",
      "adding puuid\n",
      "adding puuid\n",
      "NA1_4036818537\n",
      "adding puuid\n",
      "adding puuid\n",
      "adding puuid\n",
      "adding puuid\n",
      "adding puuid\n",
      "adding puuid\n",
      "adding puuid\n",
      "NA1_4038763150\n",
      "adding puuid\n",
      "adding puuid\n",
      "adding puuid\n",
      "adding puuid\n",
      "adding puuid\n",
      "adding puuid\n",
      "adding puuid\n",
      "NA1_4041810591\n",
      "adding puuid\n",
      "adding puuid\n",
      "adding puuid\n",
      "adding puuid\n",
      "adding puuid\n",
      "adding puuid\n",
      "adding puuid\n",
      "adding puuid\n"
     ]
    },
    {
     "ename": "HTTPError",
     "evalue": "400 Client Error: Bad Request for url: https://americas.api.riotgames.com/lol/match/v5/matches/by-puuid/Q9PW8tEdHtqRP-9k9kAxi7sIFV82GZEEowFLPSVHqm1Ex5UcEOevJGT5NvKRcDI8O6Cg_QMQ2Ahpyw/ids?count=1&endTime=12159718995531596400",
     "output_type": "error",
     "traceback": [
      "\u001b[1;31m---------------------------------------------------------------------------\u001b[0m",
      "\u001b[1;31mHTTPError\u001b[0m                                 Traceback (most recent call last)",
      "\u001b[1;32m~\\anaconda3\\lib\\site-packages\\riotwatcher\\Handlers\\ThrowOnErrorHandler.py\u001b[0m in \u001b[0;36mafter_request\u001b[1;34m(self, region, endpoint_name, method_name, url, response)\u001b[0m\n\u001b[0;32m     17\u001b[0m         \u001b[1;32mtry\u001b[0m\u001b[1;33m:\u001b[0m\u001b[1;33m\u001b[0m\u001b[1;33m\u001b[0m\u001b[0m\n\u001b[1;32m---> 18\u001b[1;33m             \u001b[0mresponse\u001b[0m\u001b[1;33m.\u001b[0m\u001b[0mraise_for_status\u001b[0m\u001b[1;33m(\u001b[0m\u001b[1;33m)\u001b[0m\u001b[1;33m\u001b[0m\u001b[1;33m\u001b[0m\u001b[0m\n\u001b[0m\u001b[0;32m     19\u001b[0m         \u001b[1;32mexcept\u001b[0m \u001b[0mrequests\u001b[0m\u001b[1;33m.\u001b[0m\u001b[0mHTTPError\u001b[0m \u001b[1;32mas\u001b[0m \u001b[0merr\u001b[0m\u001b[1;33m:\u001b[0m\u001b[1;33m\u001b[0m\u001b[1;33m\u001b[0m\u001b[0m\n",
      "\u001b[1;32m~\\anaconda3\\lib\\site-packages\\requests\\models.py\u001b[0m in \u001b[0;36mraise_for_status\u001b[1;34m(self)\u001b[0m\n\u001b[0;32m    940\u001b[0m         \u001b[1;32mif\u001b[0m \u001b[0mhttp_error_msg\u001b[0m\u001b[1;33m:\u001b[0m\u001b[1;33m\u001b[0m\u001b[1;33m\u001b[0m\u001b[0m\n\u001b[1;32m--> 941\u001b[1;33m             \u001b[1;32mraise\u001b[0m \u001b[0mHTTPError\u001b[0m\u001b[1;33m(\u001b[0m\u001b[0mhttp_error_msg\u001b[0m\u001b[1;33m,\u001b[0m \u001b[0mresponse\u001b[0m\u001b[1;33m=\u001b[0m\u001b[0mself\u001b[0m\u001b[1;33m)\u001b[0m\u001b[1;33m\u001b[0m\u001b[1;33m\u001b[0m\u001b[0m\n\u001b[0m\u001b[0;32m    942\u001b[0m \u001b[1;33m\u001b[0m\u001b[0m\n",
      "\u001b[1;31mHTTPError\u001b[0m: 400 Client Error: Bad Request for url: https://americas.api.riotgames.com/lol/match/v5/matches/by-puuid/Q9PW8tEdHtqRP-9k9kAxi7sIFV82GZEEowFLPSVHqm1Ex5UcEOevJGT5NvKRcDI8O6Cg_QMQ2Ahpyw/ids?count=1&endTime=12159718995531596400",
      "\nDuring handling of the above exception, another exception occurred:\n",
      "\u001b[1;31mHTTPError\u001b[0m                                 Traceback (most recent call last)",
      "\u001b[1;32m<ipython-input-16-25965b0f8fa2>\u001b[0m in \u001b[0;36m<module>\u001b[1;34m\u001b[0m\n\u001b[0;32m     54\u001b[0m                 \u001b[0madd_day\u001b[0m \u001b[1;33m+=\u001b[0m \u001b[0madd_day\u001b[0m\u001b[1;33m\u001b[0m\u001b[1;33m\u001b[0m\u001b[0m\n\u001b[0;32m     55\u001b[0m \u001b[1;33m\u001b[0m\u001b[0m\n\u001b[1;32m---> 56\u001b[1;33m                 match_id_new = watcher.match.matchlist_by_puuid(\n\u001b[0m\u001b[0;32m     57\u001b[0m                                              \u001b[0mregion\u001b[0m \u001b[1;33m=\u001b[0m \u001b[1;34m'americas'\u001b[0m\u001b[1;33m,\u001b[0m\u001b[1;33m\u001b[0m\u001b[1;33m\u001b[0m\u001b[0m\n\u001b[0;32m     58\u001b[0m                                              \u001b[0mpuuid\u001b[0m \u001b[1;33m=\u001b[0m \u001b[0mpuuid\u001b[0m\u001b[1;33m,\u001b[0m\u001b[1;33m\u001b[0m\u001b[1;33m\u001b[0m\u001b[0m\n",
      "\u001b[1;32m~\\anaconda3\\lib\\site-packages\\riotwatcher\\_apis\\league_of_legends\\MatchApiV5.py\u001b[0m in \u001b[0;36mmatchlist_by_puuid\u001b[1;34m(self, region, puuid, start, count, queue, type, start_time, end_time)\u001b[0m\n\u001b[0;32m     77\u001b[0m         \u001b[1;33m:\u001b[0m\u001b[0mreturns\u001b[0m\u001b[1;33m:\u001b[0m \u001b[0mMatchlistDto\u001b[0m\u001b[1;33m\u001b[0m\u001b[1;33m\u001b[0m\u001b[0m\n\u001b[0;32m     78\u001b[0m         \"\"\"\n\u001b[1;32m---> 79\u001b[1;33m         return self._request_endpoint(\n\u001b[0m\u001b[0;32m     80\u001b[0m             \u001b[0mself\u001b[0m\u001b[1;33m.\u001b[0m\u001b[0mmatchlist_by_puuid\u001b[0m\u001b[1;33m.\u001b[0m\u001b[0m__name__\u001b[0m\u001b[1;33m,\u001b[0m\u001b[1;33m\u001b[0m\u001b[1;33m\u001b[0m\u001b[0m\n\u001b[0;32m     81\u001b[0m             \u001b[0mregion\u001b[0m\u001b[1;33m,\u001b[0m\u001b[1;33m\u001b[0m\u001b[1;33m\u001b[0m\u001b[0m\n",
      "\u001b[1;32m~\\anaconda3\\lib\\site-packages\\riotwatcher\\_apis\\NamedEndpoint.py\u001b[0m in \u001b[0;36m_request_endpoint\u001b[1;34m(self, method_name, region, endpoint, **kwargs)\u001b[0m\n\u001b[0;32m     33\u001b[0m         \"\"\"\n\u001b[0;32m     34\u001b[0m         \u001b[0murl\u001b[0m\u001b[1;33m,\u001b[0m \u001b[0mquery\u001b[0m \u001b[1;33m=\u001b[0m \u001b[0mendpoint\u001b[0m\u001b[1;33m(\u001b[0m\u001b[0mplatform\u001b[0m\u001b[1;33m=\u001b[0m\u001b[0mregion\u001b[0m\u001b[1;33m,\u001b[0m \u001b[1;33m**\u001b[0m\u001b[0mkwargs\u001b[0m\u001b[1;33m)\u001b[0m\u001b[1;33m\u001b[0m\u001b[1;33m\u001b[0m\u001b[0m\n\u001b[1;32m---> 35\u001b[1;33m         return self._base_api.raw_request(\n\u001b[0m\u001b[0;32m     36\u001b[0m             \u001b[0mself\u001b[0m\u001b[1;33m.\u001b[0m\u001b[0m_endpoint_name\u001b[0m\u001b[1;33m,\u001b[0m \u001b[0mmethod_name\u001b[0m\u001b[1;33m,\u001b[0m \u001b[0mregion\u001b[0m\u001b[1;33m,\u001b[0m \u001b[0murl\u001b[0m\u001b[1;33m,\u001b[0m \u001b[0mquery\u001b[0m\u001b[1;33m\u001b[0m\u001b[1;33m\u001b[0m\u001b[0m\n\u001b[0;32m     37\u001b[0m         )\n",
      "\u001b[1;32m~\\anaconda3\\lib\\site-packages\\riotwatcher\\_apis\\BaseApi.py\u001b[0m in \u001b[0;36mraw_request\u001b[1;34m(self, endpoint_name, method_name, region, url, query_params)\u001b[0m\n\u001b[0;32m     49\u001b[0m         \u001b[1;32mif\u001b[0m \u001b[0mself\u001b[0m\u001b[1;33m.\u001b[0m\u001b[0m_request_handlers\u001b[0m \u001b[1;32mis\u001b[0m \u001b[1;32mnot\u001b[0m \u001b[1;32mNone\u001b[0m\u001b[1;33m:\u001b[0m\u001b[1;33m\u001b[0m\u001b[1;33m\u001b[0m\u001b[0m\n\u001b[0;32m     50\u001b[0m             \u001b[1;32mfor\u001b[0m \u001b[0mhandler\u001b[0m \u001b[1;32min\u001b[0m \u001b[0mself\u001b[0m\u001b[1;33m.\u001b[0m\u001b[0m_request_handlers\u001b[0m\u001b[1;33m[\u001b[0m\u001b[0mearly_ret_idx\u001b[0m\u001b[1;33m:\u001b[0m\u001b[1;32mNone\u001b[0m\u001b[1;33m:\u001b[0m\u001b[1;33m-\u001b[0m\u001b[1;36m1\u001b[0m\u001b[1;33m]\u001b[0m\u001b[1;33m:\u001b[0m\u001b[1;33m\u001b[0m\u001b[1;33m\u001b[0m\u001b[0m\n\u001b[1;32m---> 51\u001b[1;33m                 mod = handler.after_request(\n\u001b[0m\u001b[0;32m     52\u001b[0m                     \u001b[0mregion\u001b[0m\u001b[1;33m,\u001b[0m \u001b[0mendpoint_name\u001b[0m\u001b[1;33m,\u001b[0m \u001b[0mmethod_name\u001b[0m\u001b[1;33m,\u001b[0m \u001b[0murl\u001b[0m\u001b[1;33m,\u001b[0m \u001b[0mresponse\u001b[0m\u001b[1;33m\u001b[0m\u001b[1;33m\u001b[0m\u001b[0m\n\u001b[0;32m     53\u001b[0m                 )\n",
      "\u001b[1;32m~\\anaconda3\\lib\\site-packages\\riotwatcher\\Handlers\\ThrowOnErrorHandler.py\u001b[0m in \u001b[0;36mafter_request\u001b[1;34m(self, region, endpoint_name, method_name, url, response)\u001b[0m\n\u001b[0;32m     18\u001b[0m             \u001b[0mresponse\u001b[0m\u001b[1;33m.\u001b[0m\u001b[0mraise_for_status\u001b[0m\u001b[1;33m(\u001b[0m\u001b[1;33m)\u001b[0m\u001b[1;33m\u001b[0m\u001b[1;33m\u001b[0m\u001b[0m\n\u001b[0;32m     19\u001b[0m         \u001b[1;32mexcept\u001b[0m \u001b[0mrequests\u001b[0m\u001b[1;33m.\u001b[0m\u001b[0mHTTPError\u001b[0m \u001b[1;32mas\u001b[0m \u001b[0merr\u001b[0m\u001b[1;33m:\u001b[0m\u001b[1;33m\u001b[0m\u001b[1;33m\u001b[0m\u001b[0m\n\u001b[1;32m---> 20\u001b[1;33m             \u001b[1;32mraise\u001b[0m \u001b[0mApiError\u001b[0m\u001b[1;33m(\u001b[0m\u001b[1;33m*\u001b[0m\u001b[0merr\u001b[0m\u001b[1;33m.\u001b[0m\u001b[0margs\u001b[0m\u001b[1;33m,\u001b[0m \u001b[0mrequest\u001b[0m\u001b[1;33m=\u001b[0m\u001b[0merr\u001b[0m\u001b[1;33m.\u001b[0m\u001b[0mrequest\u001b[0m\u001b[1;33m,\u001b[0m \u001b[0mresponse\u001b[0m\u001b[1;33m=\u001b[0m\u001b[0merr\u001b[0m\u001b[1;33m.\u001b[0m\u001b[0mresponse\u001b[0m\u001b[1;33m)\u001b[0m\u001b[1;33m\u001b[0m\u001b[1;33m\u001b[0m\u001b[0m\n\u001b[0m",
      "\u001b[1;31mHTTPError\u001b[0m: 400 Client Error: Bad Request for url: https://americas.api.riotgames.com/lol/match/v5/matches/by-puuid/Q9PW8tEdHtqRP-9k9kAxi7sIFV82GZEEowFLPSVHqm1Ex5UcEOevJGT5NvKRcDI8O6Cg_QMQ2Ahpyw/ids?count=1&endTime=12159718995531596400"
     ]
    }
   ],
   "source": [
    "puuid = puddingpiler[\"puuid\"]\n",
    "puuid_list = []\n",
    "match_ids = []\n",
    "\n",
    "match_id_original = watcher.match.matchlist_by_puuid(region = 'americas', \n",
    "                                     puuid = puuid, \n",
    "                                     end_time = start_date,\n",
    "                                     count = 1\n",
    "                                    )\n",
    "\n",
    "\n",
    "#Getting list of players in my game from a long time ago\n",
    "og_players = watcher.match.by_id(region = 'americas', match_id = match_id_original[0])['metadata']['participants']\n",
    "\n",
    "#Add puuid of each player in this game to the puuid_list\n",
    "for player in og_players:\n",
    "    puuid_list.append(player)\n",
    "print (len(puuid_list))\n",
    "while len(puuid_list) < 5000:\n",
    "    \n",
    "\n",
    "    #For each new player in this list get the game id of the first game after the original game \n",
    "    for puuid in puuid_list:\n",
    "\n",
    "        add_day = 60*60*24\n",
    "\n",
    "        if puuid == puddingpiler[\"puuid\"]:\n",
    "            pass\n",
    "\n",
    "        else:\n",
    "              \n",
    "            match_id_new = watcher.match.matchlist_by_puuid(\n",
    "                                             region = 'americas', \n",
    "                                             puuid = puuid,\n",
    "                                             end_time = start_date + add_day,\n",
    "                                             count = 1\n",
    "                                            )\n",
    "            \n",
    "            while len(match_id_new) == 0:\n",
    "\n",
    "                add_day += add_day\n",
    "      \n",
    "                match_id_new = watcher.match.matchlist_by_puuid(\n",
    "                                             region = 'americas', \n",
    "                                             puuid = puuid,\n",
    "                                             end_time = start_date + add_day,\n",
    "                                             count = 1\n",
    "                                            )\n",
    "                \n",
    "\n",
    "            #If the new match id is the same as the old one then try again\n",
    "            while match_id_new[0] in match_ids:\n",
    "\n",
    "                add_day += add_day\n",
    "               \n",
    "                match_id_new = watcher.match.matchlist_by_puuid(\n",
    "                                             region = 'americas', \n",
    "                                             puuid = puuid,\n",
    "                                             end_time = start_date + add_day,\n",
    "                                             count = 1\n",
    "                                            )\n",
    "            \n",
    "            print (match_id_new[0])\n",
    "            \n",
    "            match_ids.append(match_id_new[0])\n",
    "          \n",
    "            puuid_list_new = watcher.match.by_id(region = 'americas', match_id = match_id_new[0])['metadata']['participants']\n",
    "\n",
    "            for puuid in puuid_list_new:\n",
    "\n",
    "                if puuid not in puuid_list:\n",
    "                    puuid_list.append(puuid)\n",
    "                    print(\"adding puuid\")\n",
    "\n",
    "                else: pass\n",
    "            time.sleep(10)"
   ]
  },
  {
   "cell_type": "code",
   "execution_count": null,
   "metadata": {},
   "outputs": [],
   "source": []
  }
 ],
 "metadata": {
  "kernelspec": {
   "display_name": "Python 3",
   "language": "python",
   "name": "python3"
  },
  "language_info": {
   "codemirror_mode": {
    "name": "ipython",
    "version": 3
   },
   "file_extension": ".py",
   "mimetype": "text/x-python",
   "name": "python",
   "nbconvert_exporter": "python",
   "pygments_lexer": "ipython3",
   "version": "3.8.5"
  }
 },
 "nbformat": 4,
 "nbformat_minor": 4
}
