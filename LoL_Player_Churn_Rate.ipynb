{
 "cells": [
  {
   "cell_type": "code",
   "execution_count": 1,
   "metadata": {},
   "outputs": [],
   "source": [
    "import pandas as pd\n",
    "from riotwatcher import LolWatcher \n",
    "import matplotlib.pyplot as plt\n",
    "import seaborn as sns\n",
    "\n",
    "\n",
    "%matplotlib inline"
   ]
  },
  {
   "cell_type": "markdown",
   "metadata": {},
   "source": [
    "#### Was there a mass exodus of players at one point in time? At a specific patch? A specific champ release? A Riot Games debacle?"
   ]
  },
  {
   "cell_type": "code",
   "execution_count": 3,
   "metadata": {},
   "outputs": [],
   "source": [
    "watcher = LolWatcher(api_key = \"RGAPI-e512287e-bb97-4738-bfec-8282f64da54b\")"
   ]
  },
  {
   "cell_type": "code",
   "execution_count": 75,
   "metadata": {},
   "outputs": [],
   "source": [
    "puddingpiler = watcher.summoner.by_name(region = 'na1', summoner_name = \"puddingpiler\")"
   ]
  },
  {
   "cell_type": "code",
   "execution_count": 69,
   "metadata": {},
   "outputs": [],
   "source": [
    "#https://www.unixtimestamp.com \n",
    "#Unix epoch time for September 10, 2021\n",
    "#This time is chosen since Riot only has data for me over the past 9 months before now, which is the date below\n",
    "start_date = 1631257200"
   ]
  },
  {
   "cell_type": "code",
   "execution_count": 72,
   "metadata": {},
   "outputs": [
    {
     "ename": "IndexError",
     "evalue": "list index out of range",
     "output_type": "error",
     "traceback": [
      "\u001b[0;31m---------------------------------------------------------------------------\u001b[0m",
      "\u001b[0;31mIndexError\u001b[0m                                Traceback (most recent call last)",
      "\u001b[0;32m/var/folders/72/cps9cly148v6hxjqc_2z32h40000gn/T/ipykernel_62374/3820546507.py\u001b[0m in \u001b[0;36m<module>\u001b[0;34m\u001b[0m\n\u001b[1;32m     25\u001b[0m \u001b[0;34m\u001b[0m\u001b[0m\n\u001b[1;32m     26\u001b[0m     \u001b[0;31m#If the new match id is the same as the old one then try again\u001b[0m\u001b[0;34m\u001b[0m\u001b[0;34m\u001b[0m\u001b[0m\n\u001b[0;32m---> 27\u001b[0;31m     \u001b[0;32mwhile\u001b[0m \u001b[0mmatch_id_new\u001b[0m\u001b[0;34m[\u001b[0m\u001b[0;36m0\u001b[0m\u001b[0;34m]\u001b[0m \u001b[0;34m==\u001b[0m \u001b[0mmatch_id_original\u001b[0m\u001b[0;34m:\u001b[0m\u001b[0;34m\u001b[0m\u001b[0;34m\u001b[0m\u001b[0m\n\u001b[0m\u001b[1;32m     28\u001b[0m \u001b[0;34m\u001b[0m\u001b[0m\n\u001b[1;32m     29\u001b[0m         \u001b[0madd_day\u001b[0m \u001b[0;34m+=\u001b[0m \u001b[0madd_day\u001b[0m\u001b[0;34m\u001b[0m\u001b[0;34m\u001b[0m\u001b[0m\n",
      "\u001b[0;31mIndexError\u001b[0m: list index out of range"
     ]
    }
   ],
   "source": [
    "puuid = puddingpiler[\"puuid\"]\n",
    "puuid_list = []\n",
    "\n",
    "match_id_original = watcher.match.matchlist_by_puuid(region = 'americas', \n",
    "                                     puuid = puuid, \n",
    "                                     end_time = start_date,\n",
    "                                     count = 1\n",
    "                                    )\n",
    "\n",
    "\n",
    "#Getting list of players in my game from a long time ago\n",
    "og_players = watcher.match.by_id(region = 'americas', match_id = match_id_original[0])['metadata']['participants']\n",
    "\n",
    "\n",
    "#Add puuid of each player in this game to the puuid_list\n",
    "for player in og_players:\n",
    "    puuid_list.append(player)\n",
    "    \n",
    "    \n",
    "\n",
    "#For each new player in this list get the game id of the first game after the original game \n",
    "for i, puuid in enumerate(puuid_list):\n",
    "    \n",
    "    add_day = 60*60*24\n",
    "    \n",
    "    match_id_new = watcher.match.matchlist_by_puuid(\n",
    "                                     region = 'americas', \n",
    "                                     puuid = puuid,\n",
    "                                     end_time = start_date + add_day,\n",
    "                                     count = 1\n",
    "                                    )\n",
    "    \n",
    "    #If the new match id is the same as the old one then try again\n",
    "    while match_id_new[0] == match_id_original[0]:\n",
    "        \n",
    "        add_day += add_day\n",
    "        \n",
    "        match_id_new = watcher.match.matchlist_by_puuid(\n",
    "                                     region = 'americas', \n",
    "                                     puuid = puuid,\n",
    "                                     end_time = start_date + add_day,\n",
    "                                     count = 1\n",
    "                                    )\n",
    "    \n",
    "    puuid_list_new = watcher.match.by_id(region = 'americas', match_id = match_id_new[0])['metadata']['participants']\n",
    "    \n",
    "    for puuid in puuid_list_new:\n",
    "        \n",
    "        if puuid not in puuid_list:\n",
    "            puuid_list.append(puuid)\n",
    "            \n",
    "        else: pass"
   ]
  },
  {
   "cell_type": "code",
   "execution_count": 54,
   "metadata": {},
   "outputs": [
    {
     "data": {
      "text/plain": [
       "[]"
      ]
     },
     "execution_count": 54,
     "metadata": {},
     "output_type": "execute_result"
    }
   ],
   "source": [
    "match_id_new"
   ]
  },
  {
   "cell_type": "code",
   "execution_count": 50,
   "metadata": {},
   "outputs": [
    {
     "ename": "IndexError",
     "evalue": "list index out of range",
     "output_type": "error",
     "traceback": [
      "\u001b[0;31m---------------------------------------------------------------------------\u001b[0m",
      "\u001b[0;31mIndexError\u001b[0m                                Traceback (most recent call last)",
      "\u001b[0;32m/var/folders/72/cps9cly148v6hxjqc_2z32h40000gn/T/ipykernel_62374/317737662.py\u001b[0m in \u001b[0;36m<module>\u001b[0;34m\u001b[0m\n\u001b[1;32m      7\u001b[0m                                     )\n\u001b[1;32m      8\u001b[0m \u001b[0;34m\u001b[0m\u001b[0m\n\u001b[0;32m----> 9\u001b[0;31m     \u001b[0mpuuid_list_new\u001b[0m \u001b[0;34m=\u001b[0m \u001b[0mwatcher\u001b[0m\u001b[0;34m.\u001b[0m\u001b[0mmatch\u001b[0m\u001b[0;34m.\u001b[0m\u001b[0mby_id\u001b[0m\u001b[0;34m(\u001b[0m\u001b[0mregion\u001b[0m \u001b[0;34m=\u001b[0m \u001b[0;34m'americas'\u001b[0m\u001b[0;34m,\u001b[0m \u001b[0mmatch_id\u001b[0m \u001b[0;34m=\u001b[0m \u001b[0mmatch_id_new\u001b[0m\u001b[0;34m[\u001b[0m\u001b[0;36m0\u001b[0m\u001b[0;34m]\u001b[0m\u001b[0;34m)\u001b[0m\u001b[0;34m[\u001b[0m\u001b[0;34m'metadata'\u001b[0m\u001b[0;34m]\u001b[0m\u001b[0;34m[\u001b[0m\u001b[0;34m'participants'\u001b[0m\u001b[0;34m]\u001b[0m\u001b[0;34m\u001b[0m\u001b[0;34m\u001b[0m\u001b[0m\n\u001b[0m\u001b[1;32m     10\u001b[0m \u001b[0;34m\u001b[0m\u001b[0m\n\u001b[1;32m     11\u001b[0m     \u001b[0;32mfor\u001b[0m \u001b[0mpuuid\u001b[0m \u001b[0;32min\u001b[0m \u001b[0mpuuid_list_new\u001b[0m\u001b[0;34m:\u001b[0m\u001b[0;34m\u001b[0m\u001b[0;34m\u001b[0m\u001b[0m\n",
      "\u001b[0;31mIndexError\u001b[0m: list index out of range"
     ]
    }
   ],
   "source": [
    "for i, puuid in enumerate(puuid_list):\n",
    "\n",
    "    match_id_new = watcher.match.matchlist_by_puuid(region = 'americas', \n",
    "                                     puuid = puuid,\n",
    "                                     end_time = start_date,\n",
    "                                     count = 1\n",
    "                                    )\n",
    "    \n",
    "    puuid_list_new = watcher.match.by_id(region = 'americas', match_id = match_id_new[0])['metadata']['participants']\n",
    "    \n",
    "    for puuid in puuid_list_new:\n",
    "        \n",
    "        if puuid not in puuid_list:\n",
    "            puuid_list.append(puuid)\n",
    "            \n",
    "        else: pass"
   ]
  },
  {
   "cell_type": "code",
   "execution_count": 52,
   "metadata": {},
   "outputs": [
    {
     "data": {
      "text/plain": [
       "50"
      ]
     },
     "execution_count": 52,
     "metadata": {},
     "output_type": "execute_result"
    }
   ],
   "source": [
    "len(puuid_list)"
   ]
  },
  {
   "cell_type": "code",
   "execution_count": 44,
   "metadata": {},
   "outputs": [
    {
     "data": {
      "text/plain": [
       "['eYjSkGvOX6W-4_B7k-jCfynxTwGfQoK_kVRbj5wT87jjmEOj7pO1RwJxkx3uUItFcIHXO9_28yX_Ow',\n",
       " 'TG9LzXDXbf5m1kf9btGLHk4xNUHFOa1SXW1QMEfmPmv5ZMtsEc2QocfeUOFfI4WmbMpcWYDW8KxLvA',\n",
       " '76tNU_36xWIT-51zotuUjVhIUyRTPev8ANaKAxPJhQDAXR7iQSs5RhD5MffxS7RnxiC83QdwgYu8_A',\n",
       " 'PdeRM70qkg70Q18t5bxzGLIDIYVG711vVIshJXqTcBE3KbSDC5gyQRecrNk5tC4eObrUVzUkVaff_g',\n",
       " 'Q9PW8tEdHtqRP-9k9kAxi7sIFV82GZEEowFLPSVHqm1Ex5UcEOevJGT5NvKRcDI8O6Cg_QMQ2Ahpyw',\n",
       " 'oe2-x1aFzO8qzIt8IpyVx5uNAJBtQdX1fI-tdZ_narOnsUnleZUe_Uf7cIiddATSRxizQOnaPGA_-g',\n",
       " 'oY_nE7pwkS2MMBg00K7peCQJoAgKWigTJhM6tOXJbyizGhqA-lwdame5nKu0eolMrY7urNW6oFMs_g',\n",
       " 'SYpggiOkfPGl7cww7Pi_gUs8MXtbmYy98K4NzORtXOxmDOEH28CDU98NLrRsXdzi0ccMMWUSUXODpg',\n",
       " 'IhFJhHpKEN_vNez9P-N98_45C83HsUxDdyTAWrJYaoDdCt4SN0TPxeQ96rar0hT9njemIRezJ2gQrQ',\n",
       " 'xSBdsS4uVvYRSYyHhkRjXNgBqoyf8cT9_u5MA1U8xfp5E42b5uGc8oaS_8IJVWnsLQ9XPrHxS_GJsg']"
      ]
     },
     "execution_count": 44,
     "metadata": {},
     "output_type": "execute_result"
    }
   ],
   "source": [
    "\n",
    "loop:\n",
    "    player_puuid = \n",
    "\n",
    "watcher.match.by_id(region = 'americas', match_id = match_id_original[0])['metadata']['participants']"
   ]
  },
  {
   "cell_type": "code",
   "execution_count": null,
   "metadata": {},
   "outputs": [],
   "source": []
  }
 ],
 "metadata": {
  "kernelspec": {
   "display_name": "Python 3 (ipykernel)",
   "language": "python",
   "name": "python3"
  },
  "language_info": {
   "codemirror_mode": {
    "name": "ipython",
    "version": 3
   },
   "file_extension": ".py",
   "mimetype": "text/x-python",
   "name": "python",
   "nbconvert_exporter": "python",
   "pygments_lexer": "ipython3",
   "version": "3.9.7"
  }
 },
 "nbformat": 4,
 "nbformat_minor": 4
}
